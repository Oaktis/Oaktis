{
  "cells": [
    {
      "cell_type": "markdown",
      "metadata": {},
      "source": [
        "# Oaktis Quick Start\n",
        "\n",
        "> **🔗 Try Oaktis → [https://oaktis.com](https://oaktis.com/?utm_source=kaggle&utm_medium=devhub&utm_campaign=oss-sdk&utm_content=notebook-header)**\n",
        "\n",
        "This notebook demonstrates how to use the Oaktis Python SDK to generate images and videos with AI.\n",
        "\n",
        "## Installation"
      ]
    },
    {
      "cell_type": "code",
      "execution_count": null,
      "metadata": {},
      "outputs": [],
      "source": [
        "!pip install oaktis"
      ]
    },
    {
      "cell_type": "markdown",
      "metadata": {},
      "source": [
        "## Setup\n",
        "\n",
        "First, import the SDK and set your API key. Get your API key from [oaktis.com](https://oaktis.com/?utm_source=kaggle&utm_medium=devhub&utm_campaign=oss-sdk&utm_content=notebook-apikey)."
      ]
    },
    {
      "cell_type": "code",
      "execution_count": null,
      "metadata": {},
      "outputs": [],
      "source": [
        "import os\n",
        "import asyncio\n",
        "from oaktis import OaktisClient, VideoGenerateParams, ImageGenerateParams\n",
        "\n",
        "# Set your API key\n",
        "os.environ[\"OAKTIS_API_KEY\"] = \"your-api-key-here\"  # Replace with your actual API key\n",
        "\n",
        "# Initialize client\n",
        "client = OaktisClient(api_key=os.getenv(\"OAKTIS_API_KEY\"))"
      ]
    },
    {
      "cell_type": "markdown",
      "metadata": {},
      "source": [
        "## Video Generation\n",
        "\n",
        "Generate a video from a text prompt."
      ]
    },
    {
      "cell_type": "code",
      "execution_count": null,
      "metadata": {},
      "outputs": [],
      "source": [
        "async def generate_video():\n",
        "    # Submit video generation job\n",
        "    job = await client.video.generate(\n",
        "        VideoGenerateParams(\n",
        "            prompt=\"a cat surfing on ocean waves at sunset\",\n",
        "            duration=5,\n",
        "            resolution=\"1080p\"\n",
        "        )\n",
        "    )\n",
        "    \n",
        "    print(f\"Job ID: {job.id}\")\n",
        "    print(f\"Status: {job.status}\")\n",
        "    \n",
        "    # Poll for completion\n",
        "    while True:\n",
        "        status = await client.video.get_status(job.id)\n",
        "        \n",
        "        if status.progress is not None:\n",
        "            print(f\"Progress: {status.progress}%\")\n",
        "        \n",
        "        if status.status in [\"completed\", \"failed\"]:\n",
        "            break\n",
        "        \n",
        "        await asyncio.sleep(2)\n",
        "    \n",
        "    # Get final result\n",
        "    if status.status == \"completed\":\n",
        "        result = await client.video.get_job(job.id)\n",
        "        print(f\"\\nVideo URL: {result.video_url}\")\n",
        "        if result.thumbnail_url:\n",
        "            print(f\"Thumbnail: {result.thumbnail_url}\")\n",
        "        return result\n",
        "    else:\n",
        "        print(f\"\\nError: {status.error}\")\n",
        "        return None\n",
        "\n",
        "# Run the async function\n",
        "video_result = await generate_video()"
      ]
    },
    {
      "cell_type": "markdown",
      "metadata": {},
      "source": [
        "## Image Generation\n",
        "\n",
        "Generate images from a text prompt."
      ]
    },
    {
      "cell_type": "code",
      "execution_count": null,
      "metadata": {},
      "outputs": [],
      "source": [
        "async def generate_images():\n",
        "    # Submit image generation job\n",
        "    job = await client.image.generate(\n",
        "        ImageGenerateParams(\n",
        "            prompt=\"a futuristic city at night with neon lights\",\n",
        "            size=\"1024x1024\",\n",
        "            n=2\n",
        "        )\n",
        "    )\n",
        "    \n",
        "    print(f\"Job ID: {job.id}\")\n",
        "    print(f\"Status: {job.status}\")\n",
        "    \n",
        "    # Poll for completion\n",
        "    while True:\n",
        "        status = await client.image.get_status(job.id)\n",
        "        \n",
        "        if status.progress is not None:\n",
        "            print(f\"Progress: {status.progress}%\")\n",
        "        \n",
        "        if status.status in [\"completed\", \"failed\"]:\n",
        "            break\n",
        "        \n",
        "        await asyncio.sleep(2)\n",
        "    \n",
        "    # Get final result\n",
        "    if status.status == \"completed\":\n",
        "        result = await client.image.get_job(job.id)\n",
        "        if result.image_urls:\n",
        "            print(f\"\\nGenerated {len(result.image_urls)} image(s):\")\n",
        "            for i, url in enumerate(result.image_urls, 1):\n",
        "                print(f\"  {i}. {url}\")\n",
        "        return result\n",
        "    else:\n",
        "        print(f\"\\nError: {status.error}\")\n",
        "        return None\n",
        "\n",
        "# Run the async function\n",
        "image_result = await generate_images()"
      ]
    },
    {
      "cell_type": "markdown",
      "metadata": {},
      "source": [
        "## Cleanup\n",
        "\n",
        "Close the client connection."
      ]
    },
    {
      "cell_type": "code",
      "execution_count": null,
      "metadata": {},
      "outputs": [],
      "source": [
        "await client.close()\n",
        "print(\"Client closed.\")"
      ]
    },
    {
      "cell_type": "markdown",
      "metadata": {},
      "source": [
        "## Next Steps\n",
        "\n",
        "- 📚 [Full Documentation](https://docs.oaktis.com)\n",
        "- 🐙 [GitHub Repository](https://github.com/oaktis/oaktis-sdk)\n",
        "- 📦 [PyPI Package](https://pypi.org/project/oaktis/)\n",
        "- 🌐 [Oaktis Website](https://oaktis.com)\n",
        "\n",
        "---\n",
        "\n",
        "**Need an API key?** Get started at [oaktis.com](https://oaktis.com/?utm_source=kaggle&utm_medium=devhub&utm_campaign=oss-sdk&utm_content=notebook-footer)"
      ]
    }
  ],
  "metadata": {
    "kernelspec": {
      "display_name": "Python 3",
      "language": "python",
      "name": "python3"
    },
    "language_info": {
      "codemirror_mode": {
        "name": "ipython",
        "version": 3
      },
      "file_extension": ".py",
      "mimetype": "text/x-python",
      "name": "python",
      "nbconvert_exporter": "python",
      "pygments_lexer": "ipython3",
      "version": "3.9.0"
    }
  },
  "nbformat": 4,
  "nbformat_minor": 4
}
